{
 "cells": [
  {
   "cell_type": "code",
   "execution_count": 1,
   "id": "f56907dd",
   "metadata": {},
   "outputs": [],
   "source": [
    "import matplotlib.pyplot as plt\n",
    "import numpy as np\n",
    "plt.rcParams['figure.figsize']=[10,10]"
   ]
  },
  {
   "cell_type": "code",
   "execution_count": 2,
   "id": "1e7ff5e9",
   "metadata": {},
   "outputs": [],
   "source": [
    "from desi_retriever.plotter import plot as  desi_plot\n",
    "from desi_retriever.everest import get_specs,get_rvspec_models"
   ]
  },
  {
   "cell_type": "code",
   "execution_count": 3,
   "id": "700727e7",
   "metadata": {},
   "outputs": [],
   "source": [
    "# REMEMBER before running this you need to \n",
    "# put in $HOME/.desi_http_user\n",
    "# the desi login password (separated by : ), i.e. login:password"
   ]
  },
  {
   "cell_type": "code",
   "execution_count": 4,
   "id": "89e03a2c",
   "metadata": {},
   "outputs": [],
   "source": [
    "source_id = 3720178836458630144"
   ]
  },
  {
   "cell_type": "code",
   "execution_count": 5,
   "id": "7a9b53b6",
   "metadata": {},
   "outputs": [
    {
     "ename": "HTTPError",
     "evalue": "404 Client Error: Not Found for url: https://data.desi.lbl.gov/desi/spectro/redux/everest/healpix//sv3/bright/264/26433/coadd-sv3-bright-26433.fits",
     "output_type": "error",
     "traceback": [
      "\u001b[0;31m---------------------------------------------------------------------------\u001b[0m",
      "\u001b[0;31mHTTPError\u001b[0m                                 Traceback (most recent call last)",
      "Cell \u001b[0;32mIn[5], line 2\u001b[0m\n\u001b[1;32m      1\u001b[0m \u001b[38;5;66;03m# When you run this for the first time it'll take 10-20-30 sec\u001b[39;00m\n\u001b[0;32m----> 2\u001b[0m S\u001b[38;5;241m=\u001b[39m\u001b[43mget_specs\u001b[49m\u001b[43m(\u001b[49m\u001b[43mgaia_edr3_source_id\u001b[49m\u001b[38;5;241;43m=\u001b[39;49m\u001b[43msource_id\u001b[49m\u001b[43m)\u001b[49m[\u001b[38;5;241m0\u001b[39m]\n",
      "File \u001b[0;32m~/pyenv38/lib/python3.8/site-packages/pylru.py:638\u001b[0m, in \u001b[0;36mlrudecorator.__call__.<locals>.wrapper\u001b[0;34m(*args, **kwargs)\u001b[0m\n\u001b[1;32m    635\u001b[0m \u001b[38;5;28;01mexcept\u001b[39;00m \u001b[38;5;167;01mKeyError\u001b[39;00m:\n\u001b[1;32m    636\u001b[0m     \u001b[38;5;28;01mpass\u001b[39;00m\n\u001b[0;32m--> 638\u001b[0m value \u001b[38;5;241m=\u001b[39m \u001b[43mfunc\u001b[49m\u001b[43m(\u001b[49m\u001b[38;5;241;43m*\u001b[39;49m\u001b[43margs\u001b[49m\u001b[43m,\u001b[49m\u001b[43m \u001b[49m\u001b[38;5;241;43m*\u001b[39;49m\u001b[38;5;241;43m*\u001b[39;49m\u001b[43mkwargs\u001b[49m\u001b[43m)\u001b[49m\n\u001b[1;32m    639\u001b[0m \u001b[38;5;28mself\u001b[39m\u001b[38;5;241m.\u001b[39mcache[key] \u001b[38;5;241m=\u001b[39m value\n\u001b[1;32m    640\u001b[0m \u001b[38;5;28;01mreturn\u001b[39;00m value\n",
      "File \u001b[0;32m~/pyenv38/lib/python3.8/site-packages/desi_retriever/everest/fetcher.py:201\u001b[0m, in \u001b[0;36mget_specs\u001b[0;34m(gaia_edr3_source_id, tileid, night, fiber, hpx, targetid, expid, coadd, coadd_type, dataset, survey, subsurvey, mask, ivar)\u001b[0m\n\u001b[1;32m    199\u001b[0m \u001b[38;5;28;01melif\u001b[39;00m hpx \u001b[38;5;129;01mis\u001b[39;00m \u001b[38;5;129;01mnot\u001b[39;00m \u001b[38;5;28;01mNone\u001b[39;00m:\n\u001b[1;32m    200\u001b[0m     url \u001b[38;5;241m=\u001b[39m \u001b[38;5;124mf\u001b[39m\u001b[38;5;124m'\u001b[39m\u001b[38;5;124mhttps://data.desi.lbl.gov/desi/spectro/redux/\u001b[39m\u001b[38;5;132;01m{\u001b[39;00mdataset\u001b[38;5;132;01m}\u001b[39;00m\u001b[38;5;124m/healpix//\u001b[39m\u001b[38;5;132;01m{\u001b[39;00msurvey\u001b[38;5;132;01m}\u001b[39;00m\u001b[38;5;124m/\u001b[39m\u001b[38;5;132;01m{\u001b[39;00msubsurvey\u001b[38;5;132;01m}\u001b[39;00m\u001b[38;5;124m/\u001b[39m\u001b[38;5;132;01m{\u001b[39;00mhpx\u001b[38;5;241m/\u001b[39m\u001b[38;5;241m/\u001b[39m\u001b[38;5;241m100\u001b[39m\u001b[38;5;132;01m}\u001b[39;00m\u001b[38;5;124m/\u001b[39m\u001b[38;5;132;01m{\u001b[39;00mhpx\u001b[38;5;132;01m}\u001b[39;00m\u001b[38;5;124m/\u001b[39m\u001b[38;5;132;01m{\u001b[39;00mprefix\u001b[38;5;132;01m}\u001b[39;00m\u001b[38;5;124m-\u001b[39m\u001b[38;5;132;01m{\u001b[39;00msurvey\u001b[38;5;132;01m}\u001b[39;00m\u001b[38;5;124m-\u001b[39m\u001b[38;5;132;01m{\u001b[39;00msubsurvey\u001b[38;5;132;01m}\u001b[39;00m\u001b[38;5;124m-\u001b[39m\u001b[38;5;132;01m{\u001b[39;00mhpx\u001b[38;5;132;01m}\u001b[39;00m\u001b[38;5;124m.fits\u001b[39m\u001b[38;5;124m'\u001b[39m\n\u001b[0;32m--> 201\u001b[0m \u001b[38;5;28;01mreturn\u001b[39;00m \u001b[43mread_spectra\u001b[49m\u001b[43m(\u001b[49m\u001b[43murl\u001b[49m\u001b[43m,\u001b[49m\u001b[43m \u001b[49m\u001b[43muser\u001b[49m\u001b[43m,\u001b[49m\u001b[43m \u001b[49m\u001b[43mpwd\u001b[49m\u001b[43m,\u001b[49m\u001b[43m \u001b[49m\u001b[43mtargetid\u001b[49m\u001b[43m,\u001b[49m\u001b[43m \u001b[49m\u001b[43mexpid\u001b[49m\u001b[43m,\u001b[49m\u001b[43m \u001b[49m\u001b[43mfiber\u001b[49m\u001b[43m,\u001b[49m\u001b[43m \u001b[49m\u001b[43mmask\u001b[49m\u001b[43m,\u001b[49m\u001b[43m \u001b[49m\u001b[43mivar\u001b[49m\u001b[43m)\u001b[49m\n",
      "File \u001b[0;32m~/pyenv38/lib/python3.8/site-packages/desi_retriever/everest/fetcher.py:74\u001b[0m, in \u001b[0;36mread_spectra\u001b[0;34m(url, user, pwd, targetid, expid, fiber, mask, ivar)\u001b[0m\n\u001b[1;32m     72\u001b[0m kw \u001b[38;5;241m=\u001b[39m \u001b[38;5;28mdict\u001b[39m(auth\u001b[38;5;241m=\u001b[39m(user, pwd), verify\u001b[38;5;241m=\u001b[39m\u001b[38;5;28;01mFalse\u001b[39;00m)\n\u001b[1;32m     73\u001b[0m block_size \u001b[38;5;241m=\u001b[39m \u001b[38;5;241m2880\u001b[39m \u001b[38;5;241m*\u001b[39m \u001b[38;5;241m10\u001b[39m  \u001b[38;5;66;03m# caching block\u001b[39;00m\n\u001b[0;32m---> 74\u001b[0m \u001b[38;5;28;01mwith\u001b[39;00m \u001b[43mhttpio\u001b[49m\u001b[38;5;241;43m.\u001b[39;49m\u001b[43mopen\u001b[49m\u001b[43m(\u001b[49m\u001b[43murl\u001b[49m\u001b[43m,\u001b[49m\u001b[43m \u001b[49m\u001b[43mblock_size\u001b[49m\u001b[38;5;241;43m=\u001b[39;49m\u001b[43mblock_size\u001b[49m\u001b[43m,\u001b[49m\u001b[43m \u001b[49m\u001b[38;5;241;43m*\u001b[39;49m\u001b[38;5;241;43m*\u001b[39;49m\u001b[43mkw\u001b[49m\u001b[43m)\u001b[49m \u001b[38;5;28;01mas\u001b[39;00m fp:\n\u001b[1;32m     75\u001b[0m     \u001b[38;5;28;01mif\u001b[39;00m url \u001b[38;5;129;01min\u001b[39;00m si\u001b[38;5;241m.\u001b[39mcache:\n\u001b[1;32m     76\u001b[0m         fp\u001b[38;5;241m.\u001b[39m_cache \u001b[38;5;241m=\u001b[39m si\u001b[38;5;241m.\u001b[39mcache[url]\n",
      "File \u001b[0;32m~/pyenv38/lib/python3.8/site-packages/httpio/__init__.py:29\u001b[0m, in \u001b[0;36mopen\u001b[0;34m(url, block_size, **kwargs)\u001b[0m\n\u001b[1;32m     19\u001b[0m \u001b[38;5;124;03m\"\"\"\u001b[39;00m\n\u001b[1;32m     20\u001b[0m \u001b[38;5;124;03mOpen a URL as a file-like object\u001b[39;00m\n\u001b[1;32m     21\u001b[0m \n\u001b[0;32m   (...)\u001b[0m\n\u001b[1;32m     26\u001b[0m \u001b[38;5;124;03m    file-like object methods.\u001b[39;00m\n\u001b[1;32m     27\u001b[0m \u001b[38;5;124;03m\"\"\"\u001b[39;00m\n\u001b[1;32m     28\u001b[0m f \u001b[38;5;241m=\u001b[39m HTTPIOFile(url, block_size, \u001b[38;5;241m*\u001b[39m\u001b[38;5;241m*\u001b[39mkwargs)\n\u001b[0;32m---> 29\u001b[0m \u001b[43mf\u001b[49m\u001b[38;5;241;43m.\u001b[39;49m\u001b[43mopen\u001b[49m\u001b[43m(\u001b[49m\u001b[43m)\u001b[49m\n\u001b[1;32m     30\u001b[0m \u001b[38;5;28;01mreturn\u001b[39;00m f\n",
      "File \u001b[0;32m~/pyenv38/lib/python3.8/site-packages/httpio/__init__.py:65\u001b[0m, in \u001b[0;36mSyncHTTPIOFile.open\u001b[0;34m(self)\u001b[0m\n\u001b[1;32m     63\u001b[0m \u001b[38;5;28mself\u001b[39m\u001b[38;5;241m.\u001b[39m_session \u001b[38;5;241m=\u001b[39m requests\u001b[38;5;241m.\u001b[39mSession()\n\u001b[1;32m     64\u001b[0m response \u001b[38;5;241m=\u001b[39m \u001b[38;5;28mself\u001b[39m\u001b[38;5;241m.\u001b[39m_session\u001b[38;5;241m.\u001b[39mhead(\u001b[38;5;28mself\u001b[39m\u001b[38;5;241m.\u001b[39murl, \u001b[38;5;241m*\u001b[39m\u001b[38;5;241m*\u001b[39m\u001b[38;5;28mself\u001b[39m\u001b[38;5;241m.\u001b[39m_kwargs)\n\u001b[0;32m---> 65\u001b[0m \u001b[43mresponse\u001b[49m\u001b[38;5;241;43m.\u001b[39;49m\u001b[43mraise_for_status\u001b[49m\u001b[43m(\u001b[49m\u001b[43m)\u001b[49m\n\u001b[1;32m     66\u001b[0m \u001b[38;5;28;01mtry\u001b[39;00m:\n\u001b[1;32m     67\u001b[0m     \u001b[38;5;28mself\u001b[39m\u001b[38;5;241m.\u001b[39mlength \u001b[38;5;241m=\u001b[39m \u001b[38;5;28mint\u001b[39m(response\u001b[38;5;241m.\u001b[39mheaders[\u001b[38;5;124m'\u001b[39m\u001b[38;5;124mContent-Length\u001b[39m\u001b[38;5;124m'\u001b[39m])\n",
      "File \u001b[0;32m~/pyenv38/lib/python3.8/site-packages/requests/models.py:1021\u001b[0m, in \u001b[0;36mResponse.raise_for_status\u001b[0;34m(self)\u001b[0m\n\u001b[1;32m   1016\u001b[0m     http_error_msg \u001b[38;5;241m=\u001b[39m (\n\u001b[1;32m   1017\u001b[0m         \u001b[38;5;124mf\u001b[39m\u001b[38;5;124m\"\u001b[39m\u001b[38;5;132;01m{\u001b[39;00m\u001b[38;5;28mself\u001b[39m\u001b[38;5;241m.\u001b[39mstatus_code\u001b[38;5;132;01m}\u001b[39;00m\u001b[38;5;124m Server Error: \u001b[39m\u001b[38;5;132;01m{\u001b[39;00mreason\u001b[38;5;132;01m}\u001b[39;00m\u001b[38;5;124m for url: \u001b[39m\u001b[38;5;132;01m{\u001b[39;00m\u001b[38;5;28mself\u001b[39m\u001b[38;5;241m.\u001b[39murl\u001b[38;5;132;01m}\u001b[39;00m\u001b[38;5;124m\"\u001b[39m\n\u001b[1;32m   1018\u001b[0m     )\n\u001b[1;32m   1020\u001b[0m \u001b[38;5;28;01mif\u001b[39;00m http_error_msg:\n\u001b[0;32m-> 1021\u001b[0m     \u001b[38;5;28;01mraise\u001b[39;00m HTTPError(http_error_msg, response\u001b[38;5;241m=\u001b[39m\u001b[38;5;28mself\u001b[39m)\n",
      "\u001b[0;31mHTTPError\u001b[0m: 404 Client Error: Not Found for url: https://data.desi.lbl.gov/desi/spectro/redux/everest/healpix//sv3/bright/264/26433/coadd-sv3-bright-26433.fits"
     ]
    }
   ],
   "source": [
    "# When you run this for the first time it'll take 10-20-30 sec\n",
    "S=get_specs(gaia_edr3_source_id=source_id)[0]"
   ]
  },
  {
   "cell_type": "code",
   "execution_count": null,
   "id": "6c8555f8",
   "metadata": {},
   "outputs": [],
   "source": [
    "print (S)"
   ]
  },
  {
   "cell_type": "markdown",
   "id": "aa0a3f5f",
   "metadata": {},
   "source": [
    "# simplistic DESI plotter"
   ]
  },
  {
   "cell_type": "code",
   "execution_count": null,
   "id": "099b3707",
   "metadata": {},
   "outputs": [],
   "source": [
    "desi_plot(S)"
   ]
  },
  {
   "cell_type": "markdown",
   "id": "58ede1de",
   "metadata": {},
   "source": [
    "# Fetching RVspecfit models"
   ]
  },
  {
   "cell_type": "code",
   "execution_count": null,
   "id": "ac418062",
   "metadata": {},
   "outputs": [],
   "source": [
    "M=get_rvspec_models(gaia_edr3_source_id=source_id)[0]"
   ]
  },
  {
   "cell_type": "code",
   "execution_count": null,
   "id": "98806d95",
   "metadata": {},
   "outputs": [],
   "source": [
    "print(M)"
   ]
  },
  {
   "cell_type": "code",
   "execution_count": null,
   "id": "e472cefe",
   "metadata": {},
   "outputs": [],
   "source": [
    "desi_plot(S, model=M)"
   ]
  },
  {
   "cell_type": "code",
   "execution_count": null,
   "id": "a67bd4ee",
   "metadata": {},
   "outputs": [],
   "source": []
  }
 ],
 "metadata": {
  "kernelspec": {
   "display_name": "Python 3 (ipykernel)",
   "language": "python",
   "name": "python3"
  },
  "language_info": {
   "codemirror_mode": {
    "name": "ipython",
    "version": 3
   },
   "file_extension": ".py",
   "mimetype": "text/x-python",
   "name": "python",
   "nbconvert_exporter": "python",
   "pygments_lexer": "ipython3",
   "version": "3.8.10"
  }
 },
 "nbformat": 4,
 "nbformat_minor": 5
}
